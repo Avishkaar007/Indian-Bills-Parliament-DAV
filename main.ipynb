{
 "cells": [
  {
   "cell_type": "markdown",
   "metadata": {},
   "source": [
    "# Data Analysis and Visualisation Project\n",
    "\n",
    "#### Avishkaar Pawar AD-1224\n",
    "#### S. Kanak Megha AD-1251\n",
    "#### Pranav AD-1272"
   ]
  },
  {
   "cell_type": "code",
   "execution_count": null,
   "metadata": {},
   "outputs": [],
   "source": []
  }
 ],
 "metadata": {
  "language_info": {
   "name": "python"
  }
 },
 "nbformat": 4,
 "nbformat_minor": 2
}
